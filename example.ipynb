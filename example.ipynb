{
 "cells": [
  {
   "cell_type": "code",
   "execution_count": 6,
   "metadata": {},
   "outputs": [],
   "source": [
    "from src.transformer.model import EssentialTransformer\n",
    "from src.utils.generic_utils import load_text_data"
   ]
  },
  {
   "cell_type": "code",
   "execution_count": 7,
   "metadata": {},
   "outputs": [],
   "source": [
    "data = load_text_data(path=\"data/test.txt\")\n",
    "model = EssentialTransformer(data, model_dimension=16, n_attention_heads=2, decoder_blocks=1)"
   ]
  },
  {
   "cell_type": "code",
   "execution_count": 8,
   "metadata": {},
   "outputs": [
    {
     "name": "stdout",
     "output_type": "stream",
     "text": [
      "Epoch: 1, Loss: 15.66290065804725\n",
      "Epoch: 2, Loss: 10.171305624812092\n",
      "Epoch: 3, Loss: 8.052302690168494\n",
      "Epoch: 4, Loss: 6.687226414658466\n",
      "Epoch: 5, Loss: 5.5571851656237445\n",
      "Epoch: 50, Loss: 2.477891042373203\n",
      "Epoch: 100, Loss: 2.247469216256453\n"
     ]
    }
   ],
   "source": [
    "model.train(data, epochs=100)"
   ]
  },
  {
   "cell_type": "code",
   "execution_count": 9,
   "metadata": {},
   "outputs": [
    {
     "data": {
      "text/plain": [
       "'The quick fox jumped over the lazy dog'"
      ]
     },
     "execution_count": 9,
     "metadata": {},
     "output_type": "execute_result"
    }
   ],
   "source": [
    "def generate(model, seed, steps):\n",
    "    if steps < 1:\n",
    "        return seed\n",
    "    return generate(model, f'{seed} {model.forward(seed)}', steps - 1)\n",
    "\n",
    "generate(model, 'The', 7)"
   ]
  },
  {
   "cell_type": "code",
   "execution_count": 10,
   "metadata": {},
   "outputs": [
    {
     "data": {
      "text/plain": [
       "3063"
      ]
     },
     "execution_count": 10,
     "metadata": {},
     "output_type": "execute_result"
    }
   ],
   "source": [
    "len(model.parameters())"
   ]
  }
 ],
 "metadata": {
  "kernelspec": {
   "display_name": "venv",
   "language": "python",
   "name": "python3"
  },
  "language_info": {
   "codemirror_mode": {
    "name": "ipython",
    "version": 3
   },
   "file_extension": ".py",
   "mimetype": "text/x-python",
   "name": "python",
   "nbconvert_exporter": "python",
   "pygments_lexer": "ipython3",
   "version": "3.11.4"
  },
  "orig_nbformat": 4
 },
 "nbformat": 4,
 "nbformat_minor": 2
}
