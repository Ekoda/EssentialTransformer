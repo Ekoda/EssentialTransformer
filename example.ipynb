{
 "cells": [
  {
   "cell_type": "code",
   "execution_count": 1,
   "metadata": {},
   "outputs": [],
   "source": [
    "from src.transformer.model import EssentialTransformer\n",
    "from src.utils.generic_utils import load_text_data"
   ]
  },
  {
   "cell_type": "code",
   "execution_count": 2,
   "metadata": {},
   "outputs": [],
   "source": [
    "data = load_text_data(path=\"data/test.txt\")\n",
    "model = EssentialTransformer(data, model_dimension=16, n_attention_heads=2, decoder_blocks=1)"
   ]
  },
  {
   "cell_type": "code",
   "execution_count": 3,
   "metadata": {},
   "outputs": [
    {
     "name": "stdout",
     "output_type": "stream",
     "text": [
      "Epoch: 1, Loss: 8.279596049987143\n",
      "Epoch: 2, Loss: 7.421908534652062\n",
      "Epoch: 3, Loss: 6.751347765745415\n",
      "Epoch: 4, Loss: 6.163229502369696\n",
      "Epoch: 5, Loss: 5.674641056594791\n",
      "Epoch: 50, Loss: 2.7901542631441467\n",
      "Epoch: 100, Loss: 2.3000422340572286\n"
     ]
    }
   ],
   "source": [
    "model.train(data, epochs=100)"
   ]
  },
  {
   "cell_type": "code",
   "execution_count": 4,
   "metadata": {},
   "outputs": [
    {
     "data": {
      "text/plain": [
       "'The quick fox jumped over the lazy dog'"
      ]
     },
     "execution_count": 4,
     "metadata": {},
     "output_type": "execute_result"
    }
   ],
   "source": [
    "def generate(model, seed, steps):\n",
    "    if steps < 1:\n",
    "        return seed\n",
    "    return generate(model, f'{seed} {model.forward(seed)}', steps - 1)\n",
    "\n",
    "generate(model, 'The', 7)"
   ]
  },
  {
   "cell_type": "code",
   "execution_count": 5,
   "metadata": {},
   "outputs": [
    {
     "data": {
      "text/plain": [
       "3447"
      ]
     },
     "execution_count": 5,
     "metadata": {},
     "output_type": "execute_result"
    }
   ],
   "source": [
    "len(model.parameters())"
   ]
  }
 ],
 "metadata": {
  "kernelspec": {
   "display_name": "venv",
   "language": "python",
   "name": "python3"
  },
  "language_info": {
   "codemirror_mode": {
    "name": "ipython",
    "version": 3
   },
   "file_extension": ".py",
   "mimetype": "text/x-python",
   "name": "python",
   "nbconvert_exporter": "python",
   "pygments_lexer": "ipython3",
   "version": "3.11.2"
  },
  "orig_nbformat": 4
 },
 "nbformat": 4,
 "nbformat_minor": 2
}
